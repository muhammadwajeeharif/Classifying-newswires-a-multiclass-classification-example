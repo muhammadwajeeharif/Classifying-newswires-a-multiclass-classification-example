{
  "nbformat": 4,
  "nbformat_minor": 0,
  "metadata": {
    "colab": {
      "name": "Classifying newswires: a multiclass classification example.ipynb",
      "provenance": [],
      "authorship_tag": "ABX9TyPViiWJv4ZEtwRvTrpKT946",
      "include_colab_link": true
    },
    "kernelspec": {
      "name": "python3",
      "display_name": "Python 3"
    },
    "language_info": {
      "name": "python"
    }
  },
  "cells": [
    {
      "cell_type": "markdown",
      "metadata": {
        "id": "view-in-github",
        "colab_type": "text"
      },
      "source": [
        "<a href=\"https://colab.research.google.com/github/muhammadwajeeharif/Classifying-newswires-a-multiclass-classification-example/blob/main/Classifying_newswires_a_multiclass_classification_example.ipynb\" target=\"_parent\"><img src=\"https://colab.research.google.com/assets/colab-badge.svg\" alt=\"Open In Colab\"/></a>"
      ]
    },
    {
      "cell_type": "code",
      "metadata": {
        "id": "YdullkT-oNTW"
      },
      "source": [
        "#Loading the Reuters dataset\n"
      ],
      "execution_count": 3,
      "outputs": []
    },
    {
      "cell_type": "markdown",
      "metadata": {
        "id": "PMX7eMAwoW7V"
      },
      "source": [
        ""
      ]
    },
    {
      "cell_type": "code",
      "metadata": {
        "colab": {
          "base_uri": "https://localhost:8080/"
        },
        "id": "5oU8GKeIoif_",
        "outputId": "3f01dbe3-b81b-4e08-8cc4-db4c2aeb8565"
      },
      "source": [
        "from keras.datasets import reuters\n",
        "(train_data, train_labels), (test_data, test_labels) = reuters.load_data(num_words=10000)"
      ],
      "execution_count": 5,
      "outputs": [
        {
          "output_type": "stream",
          "text": [
            "/usr/local/lib/python3.7/dist-packages/tensorflow/python/keras/datasets/reuters.py:148: VisibleDeprecationWarning: Creating an ndarray from ragged nested sequences (which is a list-or-tuple of lists-or-tuples-or ndarrays with different lengths or shapes) is deprecated. If you meant to do this, you must specify 'dtype=object' when creating the ndarray\n",
            "  x_train, y_train = np.array(xs[:idx]), np.array(labels[:idx])\n",
            "/usr/local/lib/python3.7/dist-packages/tensorflow/python/keras/datasets/reuters.py:149: VisibleDeprecationWarning: Creating an ndarray from ragged nested sequences (which is a list-or-tuple of lists-or-tuples-or ndarrays with different lengths or shapes) is deprecated. If you meant to do this, you must specify 'dtype=object' when creating the ndarray\n",
            "  x_test, y_test = np.array(xs[idx:]), np.array(labels[idx:])\n"
          ],
          "name": "stderr"
        }
      ]
    },
    {
      "cell_type": "markdown",
      "metadata": {
        "id": "L-izwMdboV_H"
      },
      "source": [
        ""
      ]
    },
    {
      "cell_type": "code",
      "metadata": {
        "colab": {
          "base_uri": "https://localhost:8080/"
        },
        "id": "eb1tzv5Aolwp",
        "outputId": "f4fe8831-d145-4c63-f54d-b1a45d10955f"
      },
      "source": [
        "len(train_data)"
      ],
      "execution_count": 6,
      "outputs": [
        {
          "output_type": "execute_result",
          "data": {
            "text/plain": [
              "8982"
            ]
          },
          "metadata": {
            "tags": []
          },
          "execution_count": 6
        }
      ]
    },
    {
      "cell_type": "code",
      "metadata": {
        "colab": {
          "base_uri": "https://localhost:8080/"
        },
        "id": "7ZaG_UKlol0A",
        "outputId": "f21f3f4f-25c3-462b-8046-99ce25725ddd"
      },
      "source": [
        "len(test_data)"
      ],
      "execution_count": 7,
      "outputs": [
        {
          "output_type": "execute_result",
          "data": {
            "text/plain": [
              "2246"
            ]
          },
          "metadata": {
            "tags": []
          },
          "execution_count": 7
        }
      ]
    },
    {
      "cell_type": "code",
      "metadata": {
        "colab": {
          "base_uri": "https://localhost:8080/"
        },
        "id": "zVJI52Z0osRo",
        "outputId": "659a5544-744a-4779-b506-e67b7aa2d810"
      },
      "source": [
        "train_data[10]"
      ],
      "execution_count": 8,
      "outputs": [
        {
          "output_type": "execute_result",
          "data": {
            "text/plain": [
              "[1,\n",
              " 245,\n",
              " 273,\n",
              " 207,\n",
              " 156,\n",
              " 53,\n",
              " 74,\n",
              " 160,\n",
              " 26,\n",
              " 14,\n",
              " 46,\n",
              " 296,\n",
              " 26,\n",
              " 39,\n",
              " 74,\n",
              " 2979,\n",
              " 3554,\n",
              " 14,\n",
              " 46,\n",
              " 4689,\n",
              " 4329,\n",
              " 86,\n",
              " 61,\n",
              " 3499,\n",
              " 4795,\n",
              " 14,\n",
              " 61,\n",
              " 451,\n",
              " 4329,\n",
              " 17,\n",
              " 12]"
            ]
          },
          "metadata": {
            "tags": []
          },
          "execution_count": 8
        }
      ]
    },
    {
      "cell_type": "code",
      "metadata": {
        "id": "5yE1F7ODou5A"
      },
      "source": [
        "#Decoding newswires back to text"
      ],
      "execution_count": 9,
      "outputs": []
    },
    {
      "cell_type": "code",
      "metadata": {
        "colab": {
          "base_uri": "https://localhost:8080/",
          "height": 102
        },
        "id": "LDh8wJyBozNS",
        "outputId": "cf641bc7-91d6-4fc4-92c0-01fc69888e08"
      },
      "source": [
        "word_index = reuters.get_word_index()\n",
        "reverse_word_index = dict([(value, key) for (key, value) in word_index.items()])\n",
        "decoded_newswire = ' '.join([reverse_word_index.get(i - 3, '?') for i in train_data[0]])\n",
        "decoded_newswire"
      ],
      "execution_count": 10,
      "outputs": [
        {
          "output_type": "stream",
          "text": [
            "Downloading data from https://storage.googleapis.com/tensorflow/tf-keras-datasets/reuters_word_index.json\n",
            "557056/550378 [==============================] - 0s 0us/step\n"
          ],
          "name": "stdout"
        },
        {
          "output_type": "execute_result",
          "data": {
            "application/vnd.google.colaboratory.intrinsic+json": {
              "type": "string"
            },
            "text/plain": [
              "'? ? ? said as a result of its december acquisition of space co it expects earnings per share in 1987 of 1 15 to 1 30 dlrs per share up from 70 cts in 1986 the company said pretax net should rise to nine to 10 mln dlrs from six mln dlrs in 1986 and rental operation revenues to 19 to 22 mln dlrs from 12 5 mln dlrs it said cash flow per share this year should be 2 50 to three dlrs reuter 3'"
            ]
          },
          "metadata": {
            "tags": []
          },
          "execution_count": 10
        }
      ]
    },
    {
      "cell_type": "code",
      "metadata": {
        "id": "oKLm1rG2o5JC"
      },
      "source": [
        "#Preparing the data\n",
        "#Encoding the data"
      ],
      "execution_count": 13,
      "outputs": []
    },
    {
      "cell_type": "code",
      "metadata": {
        "id": "tqGihE7bpENB"
      },
      "source": [
        "import numpy as np\n",
        "def vectorize_sequences(sequences, dimension=10000):\n",
        "  results = np.zeros((len(sequences), dimension))\n",
        "  for i, sequence in enumerate(sequences):\n",
        "    results[i, sequence] = 1.\n",
        "  return results\n",
        "x_train = vectorize_sequences(train_data)\n",
        "x_test = vectorize_sequences(test_data) \n",
        "#hame isme onehot encode labels ko bhi krna hga\n",
        "from keras.utils.np_utils import to_categorical\n",
        "one_hot_train_labels = to_categorical(train_labels)\n",
        "one_hot_test_labels = to_categorical(test_labels) \n"
      ],
      "execution_count": 24,
      "outputs": []
    },
    {
      "cell_type": "code",
      "metadata": {
        "id": "W_Ndc-jzpHTM"
      },
      "source": [
        "#Building your network"
      ],
      "execution_count": 18,
      "outputs": []
    },
    {
      "cell_type": "code",
      "metadata": {
        "id": "kSnQWPDTpqLY"
      },
      "source": [
        "from tensorflow.keras import models\n",
        "from tensorflow.keras import layers\n",
        "model = models.Sequential()\n",
        "model.add(layers.Dense(64, activation='relu', input_shape=(10000,)))\n",
        "model.add(layers.Dense(64, activation='relu'))\n",
        "model.add(layers.Dense(46, activation='softmax'))"
      ],
      "execution_count": 19,
      "outputs": []
    },
    {
      "cell_type": "code",
      "metadata": {
        "id": "RlMChI6spzMM"
      },
      "source": [
        "#Compiling the model"
      ],
      "execution_count": 20,
      "outputs": []
    },
    {
      "cell_type": "code",
      "metadata": {
        "id": "jKeS92khp3FX"
      },
      "source": [
        "model.compile(optimizer='rmsprop',loss='categorical_crossentropy',metrics=['accuracy'])"
      ],
      "execution_count": 21,
      "outputs": []
    },
    {
      "cell_type": "code",
      "metadata": {
        "id": "eYpMP4pHp7B2"
      },
      "source": [
        "#Validating your approach\n",
        "#Setting aside a validation set\n"
      ],
      "execution_count": 22,
      "outputs": []
    },
    {
      "cell_type": "code",
      "metadata": {
        "id": "kms0EOJQqEif"
      },
      "source": [
        "x_val = x_train[:1000]\n",
        "partial_x_train = x_train[1000:]\n",
        "y_val = one_hot_train_labels[:1000]\n",
        "partial_y_train = one_hot_train_labels[1000:]"
      ],
      "execution_count": 25,
      "outputs": []
    },
    {
      "cell_type": "code",
      "metadata": {
        "id": "UalEzn7OqH7_"
      },
      "source": [
        "#Training the model"
      ],
      "execution_count": 27,
      "outputs": []
    },
    {
      "cell_type": "code",
      "metadata": {
        "colab": {
          "base_uri": "https://localhost:8080/"
        },
        "id": "H57KMuBUqms-",
        "outputId": "40b5e295-ccc3-459f-e091-35f9af4e8c0c"
      },
      "source": [
        "history = model.fit(partial_x_train,partial_y_train,epochs=20,batch_size=512,validation_data=(x_val, y_val))"
      ],
      "execution_count": 28,
      "outputs": [
        {
          "output_type": "stream",
          "text": [
            "Epoch 1/20\n",
            "16/16 [==============================] - 2s 66ms/step - loss: 3.1702 - accuracy: 0.3717 - val_loss: 1.7299 - val_accuracy: 0.6480\n",
            "Epoch 2/20\n",
            "16/16 [==============================] - 1s 49ms/step - loss: 1.4925 - accuracy: 0.7120 - val_loss: 1.2721 - val_accuracy: 0.7290\n",
            "Epoch 3/20\n",
            "16/16 [==============================] - 1s 50ms/step - loss: 1.0544 - accuracy: 0.7857 - val_loss: 1.1149 - val_accuracy: 0.7550\n",
            "Epoch 4/20\n",
            "16/16 [==============================] - 1s 49ms/step - loss: 0.8177 - accuracy: 0.8232 - val_loss: 1.0206 - val_accuracy: 0.7910\n",
            "Epoch 5/20\n",
            "16/16 [==============================] - 1s 49ms/step - loss: 0.6537 - accuracy: 0.8620 - val_loss: 0.9436 - val_accuracy: 0.8070\n",
            "Epoch 6/20\n",
            "16/16 [==============================] - 1s 48ms/step - loss: 0.5159 - accuracy: 0.8906 - val_loss: 0.9310 - val_accuracy: 0.8030\n",
            "Epoch 7/20\n",
            "16/16 [==============================] - 1s 49ms/step - loss: 0.4149 - accuracy: 0.9143 - val_loss: 0.8947 - val_accuracy: 0.8110\n",
            "Epoch 8/20\n",
            "16/16 [==============================] - 1s 49ms/step - loss: 0.3329 - accuracy: 0.9321 - val_loss: 0.8899 - val_accuracy: 0.8120\n",
            "Epoch 9/20\n",
            "16/16 [==============================] - 1s 49ms/step - loss: 0.2691 - accuracy: 0.9409 - val_loss: 0.9020 - val_accuracy: 0.8180\n",
            "Epoch 10/20\n",
            "16/16 [==============================] - 1s 48ms/step - loss: 0.2282 - accuracy: 0.9499 - val_loss: 0.9334 - val_accuracy: 0.8050\n",
            "Epoch 11/20\n",
            "16/16 [==============================] - 1s 49ms/step - loss: 0.1943 - accuracy: 0.9529 - val_loss: 0.9057 - val_accuracy: 0.8220\n",
            "Epoch 12/20\n",
            "16/16 [==============================] - 1s 50ms/step - loss: 0.1775 - accuracy: 0.9552 - val_loss: 0.9110 - val_accuracy: 0.8170\n",
            "Epoch 13/20\n",
            "16/16 [==============================] - 1s 49ms/step - loss: 0.1563 - accuracy: 0.9569 - val_loss: 0.9890 - val_accuracy: 0.7980\n",
            "Epoch 14/20\n",
            "16/16 [==============================] - 1s 48ms/step - loss: 0.1404 - accuracy: 0.9565 - val_loss: 0.9839 - val_accuracy: 0.8040\n",
            "Epoch 15/20\n",
            "16/16 [==============================] - 1s 50ms/step - loss: 0.1258 - accuracy: 0.9623 - val_loss: 0.9977 - val_accuracy: 0.7980\n",
            "Epoch 16/20\n",
            "16/16 [==============================] - 1s 48ms/step - loss: 0.1297 - accuracy: 0.9584 - val_loss: 0.9548 - val_accuracy: 0.8170\n",
            "Epoch 17/20\n",
            "16/16 [==============================] - 1s 48ms/step - loss: 0.1134 - accuracy: 0.9602 - val_loss: 1.0272 - val_accuracy: 0.8020\n",
            "Epoch 18/20\n",
            "16/16 [==============================] - 1s 47ms/step - loss: 0.1060 - accuracy: 0.9629 - val_loss: 1.0715 - val_accuracy: 0.7990\n",
            "Epoch 19/20\n",
            "16/16 [==============================] - 1s 50ms/step - loss: 0.1011 - accuracy: 0.9639 - val_loss: 1.0276 - val_accuracy: 0.8080\n",
            "Epoch 20/20\n",
            "16/16 [==============================] - 1s 48ms/step - loss: 0.1028 - accuracy: 0.9603 - val_loss: 1.0606 - val_accuracy: 0.8010\n"
          ],
          "name": "stdout"
        }
      ]
    },
    {
      "cell_type": "code",
      "metadata": {
        "id": "XzTjDoNGquHF"
      },
      "source": [
        "#Plotting the training and validation loss"
      ],
      "execution_count": 29,
      "outputs": []
    },
    {
      "cell_type": "code",
      "metadata": {
        "colab": {
          "base_uri": "https://localhost:8080/",
          "height": 295
        },
        "id": "lbLQdAcCq0Gm",
        "outputId": "e981d079-0ccf-4723-ceb1-bd670bddd6b0"
      },
      "source": [
        "import matplotlib.pyplot as plt\n",
        "loss = history.history['loss']\n",
        "val_loss = history.history['val_loss']\n",
        "epochs = range(20)\n",
        "plt.plot(epochs, loss, 'bo', label='Training loss')\n",
        "plt.plot(epochs, val_loss, 'b', label='Validation loss')\n",
        "plt.title('Training and validation loss')\n",
        "plt.xlabel('Epochs')\n",
        "plt.ylabel('Loss')\n",
        "plt.legend()\n",
        "plt.show()"
      ],
      "execution_count": 31,
      "outputs": [
        {
          "output_type": "display_data",
          "data": {
            "image/png": "[encoded data removed]",
            "text/plain": [
              "<Figure size 432x288 with 1 Axes>"
            ]
          },
          "metadata": {
            "tags": [],
            "needs_background": "light"
          }
        }
      ]
    },
    {
      "cell_type": "code",
      "metadata": {
        "id": "J_eT51jFrBKp"
      },
      "source": [
        "#Plotting the training and validation accuracy"
      ],
      "execution_count": 32,
      "outputs": []
    },
    {
      "cell_type": "code",
      "metadata": {
        "colab": {
          "base_uri": "https://localhost:8080/",
          "height": 295
        },
        "id": "YYzIwPrDrJjP",
        "outputId": "48e7ec71-7fe9-4987-df3d-5d23d136ff6b"
      },
      "source": [
        "acc = history.history['accuracy']\n",
        "val_acc = history.history['val_accuracy']\n",
        "plt.plot(epochs, acc, 'bo', label='Training acc')\n",
        "plt.plot(epochs, val_acc, 'b', label='Validation acc')\n",
        "plt.title('Training and validation accuracy')\n",
        "plt.xlabel('Epochs')\n",
        "plt.ylabel('Loss')\n",
        "plt.legend()\n",
        "plt.show()"
      ],
      "execution_count": 35,
      "outputs": [
        {
          "output_type": "display_data",
          "data": {
            "image/png": "[encoded data removed]",
            "text/plain": [
              "<Figure size 432x288 with 1 Axes>"
            ]
          },
          "metadata": {
            "tags": [],
            "needs_background": "light"
          }
        }
      ]
    },
    {
      "cell_type": "code",
      "metadata": {
        "id": "n3EwFRuIrZ8d"
      },
      "source": [
        "#Retraining a model from scratch"
      ],
      "execution_count": 36,
      "outputs": []
    },
    {
      "cell_type": "code",
      "metadata": {
        "colab": {
          "base_uri": "https://localhost:8080/"
        },
        "id": "s7GMEv_4rol3",
        "outputId": "92701761-59f4-48e7-a81a-a6c4e4a52053"
      },
      "source": [
        "model = models.Sequential()\n",
        "model.add(layers.Dense(64, activation='relu', input_shape=(10000,)))\n",
        "model.add(layers.Dense(64, activation='relu'))\n",
        "model.add(layers.Dense(46, activation='softmax'))\n",
        "model.compile(optimizer='rmsprop',loss='categorical_crossentropy',metrics=['accuracy'])\n",
        "model.fit(partial_x_train,partial_y_train,epochs=9,batch_size=512,validation_data=(x_val, y_val))\n",
        "results = model.evaluate(x_test, one_hot_test_labels)"
      ],
      "execution_count": 37,
      "outputs": [
        {
          "output_type": "stream",
          "text": [
            "Epoch 1/9\n",
            "16/16 [==============================] - 1s 62ms/step - loss: 3.0259 - accuracy: 0.4412 - val_loss: 1.6714 - val_accuracy: 0.6380\n",
            "Epoch 2/9\n",
            "16/16 [==============================] - 1s 49ms/step - loss: 1.4292 - accuracy: 0.7055 - val_loss: 1.2941 - val_accuracy: 0.7100\n",
            "Epoch 3/9\n",
            "16/16 [==============================] - 1s 49ms/step - loss: 1.0586 - accuracy: 0.7765 - val_loss: 1.1323 - val_accuracy: 0.7650\n",
            "Epoch 4/9\n",
            "16/16 [==============================] - 1s 49ms/step - loss: 0.8300 - accuracy: 0.8205 - val_loss: 1.0339 - val_accuracy: 0.7830\n",
            "Epoch 5/9\n",
            "16/16 [==============================] - 1s 49ms/step - loss: 0.6616 - accuracy: 0.8583 - val_loss: 0.9965 - val_accuracy: 0.7940\n",
            "Epoch 6/9\n",
            "16/16 [==============================] - 1s 49ms/step - loss: 0.5169 - accuracy: 0.8907 - val_loss: 0.9348 - val_accuracy: 0.8030\n",
            "Epoch 7/9\n",
            "16/16 [==============================] - 1s 48ms/step - loss: 0.4106 - accuracy: 0.9147 - val_loss: 0.9331 - val_accuracy: 0.7900\n",
            "Epoch 8/9\n",
            "16/16 [==============================] - 1s 49ms/step - loss: 0.3396 - accuracy: 0.9305 - val_loss: 0.9097 - val_accuracy: 0.8160\n",
            "Epoch 9/9\n",
            "16/16 [==============================] - 1s 48ms/step - loss: 0.2808 - accuracy: 0.9417 - val_loss: 0.9109 - val_accuracy: 0.8160\n",
            "71/71 [==============================] - 0s 3ms/step - loss: 1.0026 - accuracy: 0.7823\n"
          ],
          "name": "stdout"
        }
      ]
    },
    {
      "cell_type": "code",
      "metadata": {
        "colab": {
          "base_uri": "https://localhost:8080/"
        },
        "id": "RN6FDLrEr89k",
        "outputId": "253d5611-daf0-47a3-cc58-bc43ed072798"
      },
      "source": [
        "results"
      ],
      "execution_count": 38,
      "outputs": [
        {
          "output_type": "execute_result",
          "data": {
            "text/plain": [
              "[1.0025690793991089, 0.7822796106338501]"
            ]
          },
          "metadata": {
            "tags": []
          },
          "execution_count": 38
        }
      ]
    },
    {
      "cell_type": "code",
      "metadata": {
        "id": "HObKdHQGsEj1"
      },
      "source": [
        ""
      ],
      "execution_count": null,
      "outputs": []
    }
  ]
}